{
  "nbformat": 4,
  "nbformat_minor": 0,
  "metadata": {
    "colab": {
      "provenance": [],
      "authorship_tag": "ABX9TyPgsFe/qmTOVHROJD1txLrY",
      "include_colab_link": true
    },
    "kernelspec": {
      "name": "python3",
      "display_name": "Python 3"
    },
    "language_info": {
      "name": "python"
    }
  },
  "cells": [
    {
      "cell_type": "markdown",
      "metadata": {
        "id": "view-in-github",
        "colab_type": "text"
      },
      "source": [
        "<a href=\"https://colab.research.google.com/github/valenderval/MLA_JFV/blob/main/MLA4_JFV.ipynb\" target=\"_parent\"><img src=\"https://colab.research.google.com/assets/colab-badge.svg\" alt=\"Open In Colab\"/></a>"
      ]
    },
    {
      "cell_type": "markdown",
      "source": [
        "# Machine Learning Assignment\n",
        "Jacob Vallery <br>CS430-ON <br>Machine Learning in the Cloud"
      ],
      "metadata": {
        "id": "kx_BSOvvjnDI"
      }
    },
    {
      "cell_type": "markdown",
      "source": [
        "#Standard Imports"
      ],
      "metadata": {
        "id": "e-IVFm0ljwHi"
      }
    },
    {
      "cell_type": "code",
      "source": [],
      "metadata": {
        "id": "MKRcTIORjvTb"
      },
      "execution_count": null,
      "outputs": []
    },
    {
      "cell_type": "markdown",
      "source": [
        "#Imports for Specific Models"
      ],
      "metadata": {
        "id": "L50KxboPjxJo"
      }
    },
    {
      "cell_type": "code",
      "execution_count": null,
      "metadata": {
        "id": "UvU1Fj4ciwJX"
      },
      "outputs": [],
      "source": []
    },
    {
      "cell_type": "markdown",
      "source": [
        "#Imports for Splitting Data and Building Pipeline"
      ],
      "metadata": {
        "id": "RNfD5rRYkBAM"
      }
    },
    {
      "cell_type": "code",
      "source": [],
      "metadata": {
        "id": "j2C4bNQIkEhZ"
      },
      "execution_count": null,
      "outputs": []
    },
    {
      "cell_type": "markdown",
      "source": [
        "#Imports for Performance Measures"
      ],
      "metadata": {
        "id": "yC4rHL_-kFJG"
      }
    },
    {
      "cell_type": "code",
      "source": [],
      "metadata": {
        "id": "uPd4sVlJklqE"
      },
      "execution_count": null,
      "outputs": []
    },
    {
      "cell_type": "markdown",
      "source": [
        "#Confusion Matrix Function"
      ],
      "metadata": {
        "id": "Fa7nYA3zlSIo"
      }
    },
    {
      "cell_type": "code",
      "source": [],
      "metadata": {
        "id": "-LYjJ9VjlWR8"
      },
      "execution_count": null,
      "outputs": []
    },
    {
      "cell_type": "markdown",
      "source": [
        "#ROC_Curve Function"
      ],
      "metadata": {
        "id": "XnbTZsI3lWmF"
      }
    },
    {
      "cell_type": "code",
      "source": [],
      "metadata": {
        "id": "NGcfbhn-lbD6"
      },
      "execution_count": null,
      "outputs": []
    },
    {
      "cell_type": "markdown",
      "source": [
        "#Problem 1"
      ],
      "metadata": {
        "id": "_XxuZsi9lbY4"
      }
    },
    {
      "cell_type": "markdown",
      "source": [
        "#SVC Classification - Acquire Data"
      ],
      "metadata": {
        "id": "1P1kSWJ4lmCS"
      }
    },
    {
      "cell_type": "code",
      "source": [],
      "metadata": {
        "id": "29sYiMwnlfuY"
      },
      "execution_count": null,
      "outputs": []
    },
    {
      "cell_type": "markdown",
      "source": [
        "#Splitting Data into Train/Test"
      ],
      "metadata": {
        "id": "a7bugdtrloks"
      }
    },
    {
      "cell_type": "code",
      "source": [],
      "metadata": {
        "id": "-VxxZcxTmKpH"
      },
      "execution_count": null,
      "outputs": []
    },
    {
      "cell_type": "markdown",
      "source": [
        "#Building the Pipeline"
      ],
      "metadata": {
        "id": "qKctFQd5mLZZ"
      }
    },
    {
      "cell_type": "code",
      "source": [],
      "metadata": {
        "id": "sbvKccmAmd8u"
      },
      "execution_count": null,
      "outputs": []
    },
    {
      "cell_type": "markdown",
      "source": [
        "#Executing the Model"
      ],
      "metadata": {
        "id": "ek-XKidkmeg-"
      }
    },
    {
      "cell_type": "code",
      "source": [],
      "metadata": {
        "id": "nfWLwiU7moze"
      },
      "execution_count": null,
      "outputs": []
    },
    {
      "cell_type": "markdown",
      "source": [
        "#Evaluating the Model"
      ],
      "metadata": {
        "id": "zYWMQ1qTmpMM"
      }
    },
    {
      "cell_type": "code",
      "source": [],
      "metadata": {
        "id": "V2qyF8GTmvqj"
      },
      "execution_count": null,
      "outputs": []
    },
    {
      "cell_type": "markdown",
      "source": [
        "#Conclusion"
      ],
      "metadata": {
        "id": "AcQxk-qcmwGe"
      }
    },
    {
      "cell_type": "markdown",
      "source": [],
      "metadata": {
        "id": "9_69A5Jimz7T"
      }
    },
    {
      "cell_type": "markdown",
      "source": [
        "#Problem 2"
      ],
      "metadata": {
        "id": "WDm14P37m0cB"
      }
    },
    {
      "cell_type": "markdown",
      "source": [
        "#Acquire Data"
      ],
      "metadata": {
        "id": "UcxLNLHfm2ms"
      }
    },
    {
      "cell_type": "code",
      "source": [],
      "metadata": {
        "id": "3YlDGYQXmy5w"
      },
      "execution_count": null,
      "outputs": []
    },
    {
      "cell_type": "markdown",
      "source": [
        "#Splitting Data into Train/Test"
      ],
      "metadata": {
        "id": "TYGkN488m8WP"
      }
    },
    {
      "cell_type": "code",
      "source": [],
      "metadata": {
        "id": "sVyxBKU6nGeW"
      },
      "execution_count": null,
      "outputs": []
    },
    {
      "cell_type": "markdown",
      "source": [
        "#Building the Pipeline"
      ],
      "metadata": {
        "id": "3Q0Y2FH_nGxI"
      }
    },
    {
      "cell_type": "code",
      "source": [],
      "metadata": {
        "id": "S5LeqOqxnH14"
      },
      "execution_count": null,
      "outputs": []
    },
    {
      "cell_type": "markdown",
      "source": [
        "#Executing the Model"
      ],
      "metadata": {
        "id": "mvFRvHCrnIQ6"
      }
    },
    {
      "cell_type": "code",
      "source": [],
      "metadata": {
        "id": "6xM7Aok_nN04"
      },
      "execution_count": null,
      "outputs": []
    },
    {
      "cell_type": "markdown",
      "source": [
        "#Evaluating the Model"
      ],
      "metadata": {
        "id": "otodYkcTnOPH"
      }
    },
    {
      "cell_type": "code",
      "source": [],
      "metadata": {
        "id": "eJUcc1DKnSF1"
      },
      "execution_count": null,
      "outputs": []
    },
    {
      "cell_type": "markdown",
      "source": [
        "#Conclusion"
      ],
      "metadata": {
        "id": "zWbxa4PonVPB"
      }
    },
    {
      "cell_type": "markdown",
      "source": [],
      "metadata": {
        "id": "ZqS-ohvTnWbd"
      }
    }
  ]
}