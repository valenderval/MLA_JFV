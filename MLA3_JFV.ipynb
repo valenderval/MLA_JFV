{
  "nbformat": 4,
  "nbformat_minor": 0,
  "metadata": {
    "colab": {
      "provenance": [],
      "authorship_tag": "ABX9TyPbO7ImTHCoZHltqgcXHfvI",
      "include_colab_link": true
    },
    "kernelspec": {
      "name": "python3",
      "display_name": "Python 3"
    },
    "language_info": {
      "name": "python"
    }
  },
  "cells": [
    {
      "cell_type": "markdown",
      "metadata": {
        "id": "view-in-github",
        "colab_type": "text"
      },
      "source": [
        "<a href=\"https://colab.research.google.com/github/valenderval/MLA_JFV/blob/main/MLA3_JFV.ipynb\" target=\"_parent\"><img src=\"https://colab.research.google.com/assets/colab-badge.svg\" alt=\"Open In Colab\"/></a>"
      ]
    },
    {
      "cell_type": "markdown",
      "source": [
        "# Machine Learning Assignment 3\n",
        "Jacob Vallery <br>CS430-ON <br>MachineLearning in the Cloud"
      ],
      "metadata": {
        "id": "k4bff0zIbCAX"
      }
    },
    {
      "cell_type": "markdown",
      "source": [
        "#Standard Imports"
      ],
      "metadata": {
        "id": "Ib7tus7TbGGA"
      }
    },
    {
      "cell_type": "code",
      "execution_count": null,
      "metadata": {
        "id": "dalqQ9xdaoW7"
      },
      "outputs": [],
      "source": []
    },
    {
      "cell_type": "markdown",
      "source": [
        "#Imports for Specific Models"
      ],
      "metadata": {
        "id": "D1NU_6zCbI_R"
      }
    },
    {
      "cell_type": "code",
      "source": [],
      "metadata": {
        "id": "nXWegQzpbNOm"
      },
      "execution_count": null,
      "outputs": []
    },
    {
      "cell_type": "markdown",
      "source": [
        "#Imports for Splitting Data and Building Pipeline"
      ],
      "metadata": {
        "id": "zd3Nx4LTbNnw"
      }
    },
    {
      "cell_type": "code",
      "source": [],
      "metadata": {
        "id": "_oeBaJarbQ4d"
      },
      "execution_count": null,
      "outputs": []
    },
    {
      "cell_type": "markdown",
      "source": [
        "#Imports for Performance Measures"
      ],
      "metadata": {
        "id": "Tp4WxFERbRPD"
      }
    },
    {
      "cell_type": "code",
      "source": [],
      "metadata": {
        "id": "KB9T7wIlbYXp"
      },
      "execution_count": null,
      "outputs": []
    },
    {
      "cell_type": "markdown",
      "source": [
        "#Confusion Matrix Function"
      ],
      "metadata": {
        "id": "xjIOtTrMbZC4"
      }
    },
    {
      "cell_type": "code",
      "source": [],
      "metadata": {
        "id": "KDgI5AVybcWh"
      },
      "execution_count": null,
      "outputs": []
    },
    {
      "cell_type": "markdown",
      "source": [
        "ROC_Curve Function"
      ],
      "metadata": {
        "id": "1zYiQcTWbcxA"
      }
    },
    {
      "cell_type": "code",
      "source": [],
      "metadata": {
        "id": "IoeT3pO7bfiV"
      },
      "execution_count": null,
      "outputs": []
    },
    {
      "cell_type": "markdown",
      "source": [
        "#Problem 1"
      ],
      "metadata": {
        "id": "Ag9nS_kCbf2P"
      }
    },
    {
      "cell_type": "markdown",
      "source": [
        "#Reading the Data"
      ],
      "metadata": {
        "id": "O-wVAE7CbmLr"
      }
    },
    {
      "cell_type": "code",
      "source": [],
      "metadata": {
        "id": "tSpy7_0gbpsO"
      },
      "execution_count": null,
      "outputs": []
    },
    {
      "cell_type": "markdown",
      "source": [
        "#Statistical and Visual Exploration"
      ],
      "metadata": {
        "id": "KXENOGaPbqIs"
      }
    },
    {
      "cell_type": "code",
      "source": [],
      "metadata": {
        "id": "XCaI0sd-bs9J"
      },
      "execution_count": null,
      "outputs": []
    },
    {
      "cell_type": "markdown",
      "source": [
        "#Splitting Data into Train/Test"
      ],
      "metadata": {
        "id": "7tat-ShHbtRu"
      }
    },
    {
      "cell_type": "code",
      "source": [],
      "metadata": {
        "id": "hpaOAfzhbwRL"
      },
      "execution_count": null,
      "outputs": []
    },
    {
      "cell_type": "markdown",
      "source": [
        "#Building the Pipeline"
      ],
      "metadata": {
        "id": "IRdRw_fFbwrN"
      }
    },
    {
      "cell_type": "code",
      "source": [],
      "metadata": {
        "id": "4r3U2s7YbzHW"
      },
      "execution_count": null,
      "outputs": []
    },
    {
      "cell_type": "markdown",
      "source": [
        "#Executing the Model"
      ],
      "metadata": {
        "id": "8PeuA3_wb1Cp"
      }
    },
    {
      "cell_type": "code",
      "source": [],
      "metadata": {
        "id": "PT3xafH2b2Gc"
      },
      "execution_count": null,
      "outputs": []
    },
    {
      "cell_type": "markdown",
      "source": [
        "#Evaluating Model"
      ],
      "metadata": {
        "id": "OKe0-pmBb2aC"
      }
    },
    {
      "cell_type": "code",
      "source": [],
      "metadata": {
        "id": "aZxbFZ7Xb49s"
      },
      "execution_count": null,
      "outputs": []
    },
    {
      "cell_type": "markdown",
      "source": [
        "#Conclusion"
      ],
      "metadata": {
        "id": "C-sMtdoRb6E4"
      }
    },
    {
      "cell_type": "markdown",
      "source": [
        "Write a general conclusion about the results of your model."
      ],
      "metadata": {
        "id": "kQvIBVC3b7n8"
      }
    },
    {
      "cell_type": "markdown",
      "source": [
        "#Problem 2"
      ],
      "metadata": {
        "id": "v18cXyxlb_XO"
      }
    },
    {
      "cell_type": "markdown",
      "source": [
        "#Reading the Data"
      ],
      "metadata": {
        "id": "4IM5cY0hcDIc"
      }
    },
    {
      "cell_type": "code",
      "source": [],
      "metadata": {
        "id": "f4qbE1DscYbU"
      },
      "execution_count": null,
      "outputs": []
    },
    {
      "cell_type": "markdown",
      "source": [
        "#Splitting Data into Train/Test"
      ],
      "metadata": {
        "id": "17kuDHrocFtt"
      }
    },
    {
      "cell_type": "code",
      "source": [],
      "metadata": {
        "id": "zkwsqLc1cLXj"
      },
      "execution_count": null,
      "outputs": []
    },
    {
      "cell_type": "markdown",
      "source": [
        "#Building the Pipeline"
      ],
      "metadata": {
        "id": "R6KqedV9cLt8"
      }
    },
    {
      "cell_type": "code",
      "source": [],
      "metadata": {
        "id": "PKbApfe2cNkd"
      },
      "execution_count": null,
      "outputs": []
    },
    {
      "cell_type": "markdown",
      "source": [
        "#Executing the Model"
      ],
      "metadata": {
        "id": "Zr3j9pD3cN_L"
      }
    },
    {
      "cell_type": "code",
      "source": [],
      "metadata": {
        "id": "U9ndq9UScRAo"
      },
      "execution_count": null,
      "outputs": []
    },
    {
      "cell_type": "markdown",
      "source": [
        "#Evaluating Model"
      ],
      "metadata": {
        "id": "HbnxDnz9cRT4"
      }
    },
    {
      "cell_type": "code",
      "source": [],
      "metadata": {
        "id": "bT3B1NG1cTlG"
      },
      "execution_count": null,
      "outputs": []
    },
    {
      "cell_type": "markdown",
      "source": [
        "#Conclusion"
      ],
      "metadata": {
        "id": "LqavpGQ4cT15"
      }
    },
    {
      "cell_type": "markdown",
      "source": [
        "Write a general conclusion about the results of your model."
      ],
      "metadata": {
        "id": "sOebXDTEcWUB"
      }
    }
  ]
}